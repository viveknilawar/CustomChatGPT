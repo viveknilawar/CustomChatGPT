{
  "nbformat": 4,
  "nbformat_minor": 0,
  "metadata": {
    "colab": {
      "provenance": [],
      "include_colab_link": true
    },
    "kernelspec": {
      "name": "python3",
      "display_name": "Python 3"
    },
    "language_info": {
      "name": "python"
    }
  },
  "cells": [
    {
      "cell_type": "markdown",
      "metadata": {
        "id": "view-in-github",
        "colab_type": "text"
      },
      "source": [
        "<a href=\"https://colab.research.google.com/github/viveknilawar/CustomChatGPT/blob/main/Tech_at_Work_Fine_Tune_Example.ipynb\" target=\"_parent\"><img src=\"https://colab.research.google.com/assets/colab-badge.svg\" alt=\"Open In Colab\"/></a>"
      ]
    },
    {
      "cell_type": "code",
      "execution_count": null,
      "metadata": {
        "id": "l3xI_himM5NW"
      },
      "outputs": [],
      "source": [
        "! pip install openai\n",
        "! pip install pandas\n",
        "! pip install gradio"
      ]
    },
    {
      "cell_type": "code",
      "source": [
        "import openai\n",
        "import pandas as pd\n",
        "import gradio as gr"
      ],
      "metadata": {
        "id": "IBVpcuFmNhUS"
      },
      "execution_count": null,
      "outputs": []
    },
    {
      "cell_type": "code",
      "source": [
        "openai.api_key = \"YOUR API KEY\""
      ],
      "metadata": {
        "id": "lqEXxl_TNm2p"
      },
      "execution_count": null,
      "outputs": []
    },
    {
      "cell_type": "code",
      "source": [
        "file_path = '/contents/DRIVE LOCATION/file.csv'\n",
        "df = pd.read_csv(file_path)"
      ],
      "metadata": {
        "id": "_DjkzI11Nvco"
      },
      "execution_count": null,
      "outputs": []
    },
    {
      "cell_type": "code",
      "source": [
        "df.to_csv('/contents/DRIVE LOCATION/file_pandas.csv', index=False)"
      ],
      "metadata": {
        "id": "nWaRaQcbPPTm"
      },
      "execution_count": null,
      "outputs": []
    },
    {
      "cell_type": "code",
      "source": [
        "!openai tools fine_tunes.prepare_data -f /content/drive/MyDrive/Airline-Tweets/tweets_pandas.csv"
      ],
      "metadata": {
        "colab": {
          "base_uri": "https://localhost:8080/"
        },
        "id": "Y4RGoWQtPsAO",
        "outputId": "518fd619-ce3c-4a52-efe5-97430387601a"
      },
      "execution_count": null,
      "outputs": [
        {
          "output_type": "stream",
          "name": "stdout",
          "text": [
            "Analyzing...\n",
            "\n",
            "- Based on your file extension, your file is formatted as a CSV file\n",
            "- Your file contains 1007 prompt-completion pairs\n",
            "- The input file should contain exactly two columns/keys per row. Additional columns/keys present are: ['Unnamed: 2', 'Unnamed: 3', 'Unnamed: 4', 'Unnamed: 5', 'Unnamed: 6', 'Unnamed: 7', 'Unnamed: 8', 'Unnamed: 9', 'Unnamed: 10', 'Unnamed: 11', 'Unnamed: 12', 'Unnamed: 13']\n",
            "  WARNING: Some of the additional columns/keys contain `Unnamed: 2` in their name. These will be ignored, and the column/key `Unnamed: 2` will be used instead. This could also result from a duplicate column/key in the provided file.\n",
            "  WARNING: Some of the additional columns/keys contain `Unnamed: 3` in their name. These will be ignored, and the column/key `Unnamed: 3` will be used instead. This could also result from a duplicate column/key in the provided file.\n",
            "  WARNING: Some of the additional columns/keys contain `Unnamed: 4` in their name. These will be ignored, and the column/key `Unnamed: 4` will be used instead. This could also result from a duplicate column/key in the provided file.\n",
            "  WARNING: Some of the additional columns/keys contain `Unnamed: 5` in their name. These will be ignored, and the column/key `Unnamed: 5` will be used instead. This could also result from a duplicate column/key in the provided file.\n",
            "  WARNING: Some of the additional columns/keys contain `Unnamed: 6` in their name. These will be ignored, and the column/key `Unnamed: 6` will be used instead. This could also result from a duplicate column/key in the provided file.\n",
            "  WARNING: Some of the additional columns/keys contain `Unnamed: 7` in their name. These will be ignored, and the column/key `Unnamed: 7` will be used instead. This could also result from a duplicate column/key in the provided file.\n",
            "  WARNING: Some of the additional columns/keys contain `Unnamed: 8` in their name. These will be ignored, and the column/key `Unnamed: 8` will be used instead. This could also result from a duplicate column/key in the provided file.\n",
            "  WARNING: Some of the additional columns/keys contain `Unnamed: 9` in their name. These will be ignored, and the column/key `Unnamed: 9` will be used instead. This could also result from a duplicate column/key in the provided file.\n",
            "  WARNING: Some of the additional columns/keys contain `Unnamed: 10` in their name. These will be ignored, and the column/key `Unnamed: 10` will be used instead. This could also result from a duplicate column/key in the provided file.\n",
            "  WARNING: Some of the additional columns/keys contain `Unnamed: 11` in their name. These will be ignored, and the column/key `Unnamed: 11` will be used instead. This could also result from a duplicate column/key in the provided file.\n",
            "  WARNING: Some of the additional columns/keys contain `Unnamed: 12` in their name. These will be ignored, and the column/key `Unnamed: 12` will be used instead. This could also result from a duplicate column/key in the provided file.\n",
            "  WARNING: Some of the additional columns/keys contain `Unnamed: 13` in their name. These will be ignored, and the column/key `Unnamed: 13` will be used instead. This could also result from a duplicate column/key in the provided file.\n",
            "- Based on your data it seems like you're trying to fine-tune a model for classification\n",
            "- For classification, we recommend you try one of the faster and cheaper models, such as `ada`\n",
            "- For classification, you can estimate the expected model performance by keeping a held out dataset, which is not used for training\n",
            "- There are 2 duplicated prompt-completion sets. These are rows: [327, 511]\n",
            "- Your data does not contain a common separator at the end of your prompts. Having a separator string appended to the end of the prompt makes it clearer to the fine-tuned model where the completion should begin. See https://platform.openai.com/docs/guides/fine-tuning/preparing-your-dataset for more detail and examples. If you intend to do open-ended generation, then you should leave the prompts empty\n",
            "- The completion should start with a whitespace character (` `). This tends to produce better results due to the tokenization we use. See https://platform.openai.com/docs/guides/fine-tuning/preparing-your-dataset for more details\n",
            "\n",
            "Based on the analysis we will perform the following actions:\n",
            "- [Necessary] Your format `CSV` will be converted to `JSONL`\n",
            "- [Necessary] Remove additional columns/keys: ['Unnamed: 2', 'Unnamed: 3', 'Unnamed: 4', 'Unnamed: 5', 'Unnamed: 6', 'Unnamed: 7', 'Unnamed: 8', 'Unnamed: 9', 'Unnamed: 10', 'Unnamed: 11', 'Unnamed: 12', 'Unnamed: 13']\n",
            "- [Recommended] Remove 2 duplicate rows [Y/n]: Y\n",
            "- [Recommended] Add a suffix separator `\\n\\n###\\n\\n` to all prompts [Y/n]: Y\n",
            "- [Recommended] Add a whitespace character to the beginning of the completion [Y/n]: Y\n",
            "- [Recommended] Would you like to split into training and validation set? [Y/n]: n\n",
            "\n",
            "\n",
            "Your data will be written to a new JSONL file. Proceed [Y/n]: Y\n",
            "\n",
            "Wrote modified file to `/content/drive/MyDrive/Airline-Tweets/tweets_pandas_prepared.jsonl`\n",
            "Feel free to take a look!\n",
            "\n",
            "Now use that file when fine-tuning:\n",
            "> openai api fine_tunes.create -t \"/content/drive/MyDrive/Airline-Tweets/tweets_pandas_prepared.jsonl\"\n",
            "\n",
            "After you’ve fine-tuned a model, remember that your prompt has to end with the indicator string `\\n\\n###\\n\\n` for the model to start generating completions, rather than continuing with the prompt.\n",
            "Once your model starts training, it'll approximately take 26.45 minutes to train a `curie` model, and less for `ada` and `babbage`. Queue will approximately take half an hour per job ahead of you.\n"
          ]
        }
      ]
    },
    {
      "cell_type": "code",
      "source": [
        "def create_training_file(file_path):\n",
        "  file = openai.File.create(\n",
        "      file=open(file_path, \"rb\"),\n",
        "      purpose=\"fine-tune\"\n",
        "  )\n",
        "  return file\n",
        "\n",
        "\n",
        "training_file = create_training_file(\"/contents/DRIVE LOCATION/file_prepared.jsonl\")\n",
        "print(training_file)"
      ],
      "metadata": {
        "colab": {
          "base_uri": "https://localhost:8080/"
        },
        "id": "2OCeT3b8S4nz",
        "outputId": "d7c996e3-de8e-4733-b3c8-0ec28d24bfef"
      },
      "execution_count": null,
      "outputs": [
        {
          "output_type": "stream",
          "name": "stdout",
          "text": [
            "{\n",
            "  \"bytes\": 154537,\n",
            "  \"created_at\": 1684538295,\n",
            "  \"filename\": \"file\",\n",
            "  \"id\": \"file-xjSgFivxFlmkwCsWYv2vtWsO\",\n",
            "  \"object\": \"file\",\n",
            "  \"purpose\": \"fine-tune\",\n",
            "  \"status\": \"uploaded\",\n",
            "  \"status_details\": null\n",
            "}\n"
          ]
        }
      ]
    },
    {
      "cell_type": "code",
      "source": [
        "training_file['id']"
      ],
      "metadata": {
        "colab": {
          "base_uri": "https://localhost:8080/",
          "height": 35
        },
        "id": "dIfv1AZ-T3Ul",
        "outputId": "97478176-a484-441a-89cb-e9b8043bf521"
      },
      "execution_count": null,
      "outputs": [
        {
          "output_type": "execute_result",
          "data": {
            "text/plain": [
              "'file-xjSgFivxFlmkwCsWYv2vtWsO'"
            ],
            "application/vnd.google.colaboratory.intrinsic+json": {
              "type": "string"
            }
          },
          "metadata": {},
          "execution_count": 8
        }
      ]
    },
    {
      "cell_type": "code",
      "source": [
        "fine_tuned_model = openai.FineTune.create(training_file=training_file['id'],\n",
        "model ='ada',\n",
        "n_epochs=4)\n",
        "print(fine_tuned_model)"
      ],
      "metadata": {
        "colab": {
          "base_uri": "https://localhost:8080/"
        },
        "id": "ce4S3rX9UCT8",
        "outputId": "8f910866-38d5-4eed-ee4a-273aa7839130"
      },
      "execution_count": null,
      "outputs": [
        {
          "output_type": "stream",
          "name": "stdout",
          "text": [
            "{\n",
            "  \"created_at\": 1684538664,\n",
            "  \"events\": [\n",
            "    {\n",
            "      \"created_at\": 1684538664,\n",
            "      \"level\": \"info\",\n",
            "      \"message\": \"Created fine-tune: ft-hKKejuxmB0FazBYlRvJd5Ho6\",\n",
            "      \"object\": \"fine-tune-event\"\n",
            "    }\n",
            "  ],\n",
            "  \"fine_tuned_model\": null,\n",
            "  \"hyperparams\": {\n",
            "    \"batch_size\": null,\n",
            "    \"learning_rate_multiplier\": null,\n",
            "    \"n_epochs\": 4,\n",
            "    \"prompt_loss_weight\": 0.01\n",
            "  },\n",
            "  \"id\": \"ft-hKKejuxmB0FazBYlRvJd5Ho6\",\n",
            "  \"model\": \"ada\",\n",
            "  \"object\": \"fine-tune\",\n",
            "  \"organization_id\": \"org-pWoX9YzaETZVCbyWbebFq8ld\",\n",
            "  \"result_files\": [],\n",
            "  \"status\": \"pending\",\n",
            "  \"training_files\": [\n",
            "    {\n",
            "      \"bytes\": 154537,\n",
            "      \"created_at\": 1684538295,\n",
            "      \"filename\": \"file\",\n",
            "      \"id\": \"file-xjSgFivxFlmkwCsWYv2vtWsO\",\n",
            "      \"object\": \"file\",\n",
            "      \"purpose\": \"fine-tune\",\n",
            "      \"status\": \"processed\",\n",
            "      \"status_details\": null\n",
            "    }\n",
            "  ],\n",
            "  \"updated_at\": 1684538664,\n",
            "  \"validation_files\": []\n",
            "}\n"
          ]
        }
      ]
    },
    {
      "cell_type": "code",
      "source": [
        "openai.FineTune.list_events(id=\"ft-YOUR FILE ABOVE\") ['data']"
      ],
      "metadata": {
        "colab": {
          "base_uri": "https://localhost:8080/"
        },
        "id": "nK9Xv5jRV7tQ",
        "outputId": "a81ae27f-7185-4016-de62-cf005e2b98ce"
      },
      "execution_count": null,
      "outputs": [
        {
          "output_type": "execute_result",
          "data": {
            "text/plain": [
              "[<OpenAIObject fine-tune-event at 0x7f95dfb54c70> JSON: {\n",
              "   \"created_at\": 1684538664,\n",
              "   \"level\": \"info\",\n",
              "   \"message\": \"Created fine-tune: ft-hKKejuxmB0FazBYlRvJd5Ho6\",\n",
              "   \"object\": \"fine-tune-event\"\n",
              " },\n",
              " <OpenAIObject fine-tune-event at 0x7f95dfb56e80> JSON: {\n",
              "   \"created_at\": 1684538809,\n",
              "   \"level\": \"info\",\n",
              "   \"message\": \"Fine-tune costs $0.05\",\n",
              "   \"object\": \"fine-tune-event\"\n",
              " },\n",
              " <OpenAIObject fine-tune-event at 0x7f95dfb57880> JSON: {\n",
              "   \"created_at\": 1684538809,\n",
              "   \"level\": \"info\",\n",
              "   \"message\": \"Fine-tune enqueued. Queue number: 0\",\n",
              "   \"object\": \"fine-tune-event\"\n",
              " },\n",
              " <OpenAIObject fine-tune-event at 0x7f95df9f2980> JSON: {\n",
              "   \"created_at\": 1684538812,\n",
              "   \"level\": \"info\",\n",
              "   \"message\": \"Fine-tune started\",\n",
              "   \"object\": \"fine-tune-event\"\n",
              " },\n",
              " <OpenAIObject fine-tune-event at 0x7f95dfa0cea0> JSON: {\n",
              "   \"created_at\": 1684539017,\n",
              "   \"level\": \"info\",\n",
              "   \"message\": \"Completed epoch 1/4\",\n",
              "   \"object\": \"fine-tune-event\"\n",
              " },\n",
              " <OpenAIObject fine-tune-event at 0x7f95dfa0da80> JSON: {\n",
              "   \"created_at\": 1684539209,\n",
              "   \"level\": \"info\",\n",
              "   \"message\": \"Completed epoch 2/4\",\n",
              "   \"object\": \"fine-tune-event\"\n",
              " },\n",
              " <OpenAIObject fine-tune-event at 0x7f95dfa0c540> JSON: {\n",
              "   \"created_at\": 1684539401,\n",
              "   \"level\": \"info\",\n",
              "   \"message\": \"Completed epoch 3/4\",\n",
              "   \"object\": \"fine-tune-event\"\n",
              " },\n",
              " <OpenAIObject fine-tune-event at 0x7f95dfa0c6d0> JSON: {\n",
              "   \"created_at\": 1684539593,\n",
              "   \"level\": \"info\",\n",
              "   \"message\": \"Completed epoch 4/4\",\n",
              "   \"object\": \"fine-tune-event\"\n",
              " },\n",
              " <OpenAIObject fine-tune-event at 0x7f95dfa0fa60> JSON: {\n",
              "   \"created_at\": 1684539622,\n",
              "   \"level\": \"info\",\n",
              "   \"message\": \"Uploaded model: ada:ft-personal-2023-05-19-23-40-22\",\n",
              "   \"object\": \"fine-tune-event\"\n",
              " },\n",
              " <OpenAIObject fine-tune-event at 0x7f95dfa0f650> JSON: {\n",
              "   \"created_at\": 1684539623,\n",
              "   \"level\": \"info\",\n",
              "   \"message\": \"Uploaded result file: file-VXPjQk71xWEZywPbEadXWIHv\",\n",
              "   \"object\": \"fine-tune-event\"\n",
              " },\n",
              " <OpenAIObject fine-tune-event at 0x7f95dfa0c9a0> JSON: {\n",
              "   \"created_at\": 1684539623,\n",
              "   \"level\": \"info\",\n",
              "   \"message\": \"Fine-tune succeeded\",\n",
              "   \"object\": \"fine-tune-event\"\n",
              " }]"
            ]
          },
          "metadata": {},
          "execution_count": 54
        }
      ]
    },
    {
      "cell_type": "code",
      "source": [
        "prompt_text = \"TEST TWEET \\n\\n###\\n\\n\"\n",
        "response = openai.Completion.create(\n",
        "    model=\"ada:YOUR MODEL\",\n",
        "    prompt=prompt_text,\n",
        "    max_tokens=5,\n",
        "    temperature=0\n",
        ")\n",
        "print(response['choices'][0]['text'])"
      ],
      "metadata": {
        "colab": {
          "base_uri": "https://localhost:8080/"
        },
        "id": "ObH1lUnScFmc",
        "outputId": "c6a5be0f-b010-4b01-8cf2-f0fde08643b8"
      },
      "execution_count": null,
      "outputs": [
        {
          "output_type": "stream",
          "name": "stdout",
          "text": [
            " negative\n",
            " negative\n",
            " negative\n"
          ]
        }
      ]
    },
    {
      "cell_type": "code",
      "source": [
        "def generate_completion(user_prompt):\n",
        "    hidden_context = \" \"\n",
        "    prompt = hidden_context + user_prompt\n",
        "    response = openai.Completion.create(\n",
        "        model=\"ada:YOUR MODEL\",\n",
        "        prompt=prompt,\n",
        "        max_tokens=10,\n",
        "        temperature=0\n",
        "    )\n",
        "    return response.choices[0].text.strip()\n",
        "iface = gr.Interface(fn=generate_completion,\n",
        "                     inputs=gr.inputs.Textbox(lines=5, placeholder='Enter a tweet...'),\n",
        "                     outputs='text',\n",
        "                     title=\"Twitter Flight Happiness\",\n",
        "                     description=\"Based on thousands of tweets, determines if the tweet you entered is positive, negative, or nuetral\",\n",
        "                     input_labels=\"Tweet\",\n",
        "                     output_labels=\"Sentiment\")\n",
        "\n",
        "iface.launch(share=True)"
      ],
      "metadata": {
        "colab": {
          "base_uri": "https://localhost:8080/",
          "height": 755
        },
        "id": "UObAu6zqdcqE",
        "outputId": "8fc1e40c-8297-462a-b885-1cbf72b95f5f"
      },
      "execution_count": null,
      "outputs": [
        {
          "output_type": "stream",
          "name": "stderr",
          "text": [
            "/usr/local/lib/python3.10/dist-packages/gradio/inputs.py:27: UserWarning: Usage of gradio.inputs is deprecated, and will not be supported in the future, please import your component from gradio.components\n",
            "  warnings.warn(\n",
            "/usr/local/lib/python3.10/dist-packages/gradio/inputs.py:30: UserWarning: `optional` parameter is deprecated, and it has no effect\n",
            "  super().__init__(\n",
            "/usr/local/lib/python3.10/dist-packages/gradio/inputs.py:30: UserWarning: `numeric` parameter is deprecated, and it has no effect\n",
            "  super().__init__(\n",
            "<ipython-input-62-d90c40c5c2a3>:11: UserWarning: You have unused kwarg parameters in Interface, please remove them: {'input_labels': 'Tweet', 'output_labels': 'Sentiment'}\n",
            "  iface = gr.Interface(fn=generate_completion,\n"
          ]
        },
        {
          "output_type": "stream",
          "name": "stdout",
          "text": [
            "Colab notebook detected. To show errors in colab notebook, set debug=True in launch()\n",
            "Running on public URL: https://41bf53283239bd397e.gradio.live\n",
            "\n",
            "This share link expires in 72 hours. For free permanent hosting and GPU upgrades (NEW!), check out Spaces: https://huggingface.co/spaces\n"
          ]
        },
        {
          "output_type": "display_data",
          "data": {
            "text/plain": [
              "<IPython.core.display.HTML object>"
            ],
            "text/html": [
              "<div><iframe src=\"https://41bf53283239bd397e.gradio.live\" width=\"100%\" height=\"500\" allow=\"autoplay; camera; microphone; clipboard-read; clipboard-write;\" frameborder=\"0\" allowfullscreen></iframe></div>"
            ]
          },
          "metadata": {}
        },
        {
          "output_type": "execute_result",
          "data": {
            "text/plain": []
          },
          "metadata": {},
          "execution_count": 62
        }
      ]
    }
  ]
}